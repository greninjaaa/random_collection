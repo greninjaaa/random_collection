{
 "cells": [
  {
   "cell_type": "code",
   "execution_count": 52,
   "metadata": {},
   "outputs": [],
   "source": [
    "import numpy as np\n",
    "from numpy.random import default_rng\n",
    "rng = default_rng() "
   ]
  },
  {
   "cell_type": "code",
   "execution_count": 23,
   "metadata": {},
   "outputs": [
    {
     "name": "stdout",
     "output_type": "stream",
     "text": [
      "[ 0.975014   -1.34098077  0.2964399  -0.43531402  0.68361286 -0.29457563\n",
      " -0.13074232 -0.00201476]\n"
     ]
    }
   ],
   "source": [
    "sample = rng.normal(0.0, 1.0, 8)\n",
    "print(sample)"
   ]
  },
  {
   "cell_type": "code",
   "execution_count": 13,
   "metadata": {},
   "outputs": [
    {
     "name": "stdout",
     "output_type": "stream",
     "text": [
      "[13  8 13  7  9  9  6 10]\n"
     ]
    }
   ],
   "source": [
    "sample = rng.binomial(50, 0.2, 8)\n",
    "print(sample)"
   ]
  },
  {
   "cell_type": "code",
   "execution_count": 22,
   "metadata": {},
   "outputs": [
    {
     "name": "stdout",
     "output_type": "stream",
     "text": [
      "[7 6 5 5 4 6 6 4]\n"
     ]
    }
   ],
   "source": [
    "sample = rng.hypergeometric(50, 17, 8, 8)\n",
    "print(sample)"
   ]
  },
  {
   "cell_type": "code",
   "execution_count": 37,
   "metadata": {},
   "outputs": [
    {
     "name": "stdout",
     "output_type": "stream",
     "text": [
      "-0.017684860327970495\n"
     ]
    }
   ],
   "source": [
    "sample = rng.normal(0.0, 1.0, 1000)\n",
    "print(sum(sample) / 1000)"
   ]
  },
  {
   "cell_type": "code",
   "execution_count": 41,
   "metadata": {},
   "outputs": [
    {
     "name": "stdout",
     "output_type": "stream",
     "text": [
      "[ 7 10 10  8 10 10  9  8]\n",
      "10.0 10.0 8.0 2.8284271247461903\n"
     ]
    }
   ],
   "source": [
    "import scipy as sp\n",
    "from scipy.stats import binom\n",
    "\n",
    "sample = rng.binomial(50, 0.2, 8)\n",
    "print(sample)\n",
    "\n",
    "# binom.pmf(11, 50, 0.2) #  0.1271082 from R\n",
    "# binom.cdf(11, 50, 0.2) #  0.7106676 from R\n",
    "\n",
    "print(binom.mean(50, 0.2), binom.median(50, 0.2), binom.var(50, 0.2), binom.std(50, 0.2))"
   ]
  },
  {
   "cell_type": "code",
   "execution_count": 49,
   "metadata": {},
   "outputs": [
    {
     "name": "stdout",
     "output_type": "stream",
     "text": [
      "0.8413447460685429\n",
      "0.8413447460685429\n"
     ]
    },
    {
     "data": {
      "text/plain": [
       "1.959963984540054"
      ]
     },
     "execution_count": 49,
     "metadata": {},
     "output_type": "execute_result"
    }
   ],
   "source": [
    "from scipy.stats import norm\n",
    "\n",
    "sample = rng.normal(0, 1, 1000)\n",
    "# print(sample)\n",
    "\n",
    "print(norm.cdf(50, 35, 15)) # 0.8413447\n",
    "print(norm.cdf(1, 0, 1))\n",
    "norm.ppf(0.975, 0, 1)\n"
   ]
  },
  {
   "cell_type": "code",
   "execution_count": 181,
   "metadata": {},
   "outputs": [
    {
     "name": "stdout",
     "output_type": "stream",
     "text": [
      "1.3040438043049243\n"
     ]
    },
    {
     "data": {
      "text/plain": [
       "0.20247495477829391"
      ]
     },
     "execution_count": 181,
     "metadata": {},
     "output_type": "execute_result"
    }
   ],
   "source": [
    "n = 30\n",
    "sample = rng.normal(0, 1, n)\n",
    "mu0 = 0.1\n",
    "mu1 = 0.01\n",
    "xbar = np.mean(sample)\n",
    "S = np.std(sample, ddof=1) # unbiased sample stdev\n",
    "S2 = np.var(sample, ddof=1) # unbiased sample variance\n",
    "# print(S, S2)\n",
    "# print(xbar)\n",
    "T = abs((n ** 0.5) * (xbar - mu0)/S)\n",
    "print(T)\n",
    "\n",
    "from scipy.stats import t\n",
    "2*t.cdf(-T, df=n-1)\n"
   ]
  },
  {
   "cell_type": "code",
   "execution_count": 182,
   "metadata": {},
   "outputs": [
    {
     "name": "stdout",
     "output_type": "stream",
     "text": [
      "Ttest_1sampResult(statistic=0.4255343428855565, pvalue=0.673588605825653)\n",
      "Ttest_1sampResult(statistic=-58.17698039912953, pvalue=1.3867247890115268e-31)\n",
      "Ttest_1sampResult(statistic=-0.1604908045345944, pvalue=0.8736072076791018)\n"
     ]
    }
   ],
   "source": [
    "from scipy.stats import ttest_1samp\n",
    "sample = rng.normal(0, 1, n)\n",
    "print(sp.stats.ttest_1samp(sample, popmean = 0.0, alternative = 'two-sided'))\n",
    "print(sp.stats.ttest_1samp(sample, popmean = 10, alternative = 'two-sided'))\n",
    "print(sp.stats.ttest_1samp(sample, popmean = 0.1, alternative = 'two-sided'))"
   ]
  }
 ],
 "metadata": {
  "interpreter": {
   "hash": "0a03c635132c07876c6d7ba76e970a007adb91200514714c644f6e42df7dec65"
  },
  "kernelspec": {
   "display_name": "Python 3.7.11 64-bit ('myenv': conda)",
   "name": "python3"
  },
  "language_info": {
   "codemirror_mode": {
    "name": "ipython",
    "version": 3
   },
   "file_extension": ".py",
   "mimetype": "text/x-python",
   "name": "python",
   "nbconvert_exporter": "python",
   "pygments_lexer": "ipython3",
   "version": "3.7.11"
  },
  "orig_nbformat": 4
 },
 "nbformat": 4,
 "nbformat_minor": 2
}
