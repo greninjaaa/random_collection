{
 "cells": [
  {
   "cell_type": "code",
   "execution_count": 20,
   "metadata": {},
   "outputs": [],
   "source": [
    "import numpy as np\n",
    "\n",
    "M = np.random.rand(3, 4) \n",
    "N = np.random.rand(3, 4) \n",
    "O = M + N\n",
    "# subM = M[0:2, 1:3]\n",
    "\n",
    "MTp = np.transpose(M)"
   ]
  },
  {
   "cell_type": "code",
   "execution_count": 23,
   "metadata": {},
   "outputs": [
    {
     "name": "stdout",
     "output_type": "stream",
     "text": [
      "[[0.82125587 0.57340038 0.55893923 0.68432404]\n",
      " [0.31776909 0.39586006 0.0265377  0.67824145]\n",
      " [0.05433501 0.44737827 0.98769343 0.66150622]]\n",
      "[[0.16597713 0.25454045 0.83332911 0.39991614]\n",
      " [0.23174516 0.35879403 0.54922063 0.20301919]\n",
      " [0.38836298 0.01535092 0.94520788 0.66589493]]\n",
      "[[0.23105285 0.32389058 0.91025964 0.42912811]\n",
      " [0.36065516 0.29485348 1.11811121 0.60758618]\n",
      " [0.48250468 0.16695621 1.413931   0.88661654]\n",
      " [0.52766584 0.42769185 1.56803222 0.8518619 ]]\n",
      "[[0.23105285 0.32389058 0.91025964 0.42912811]\n",
      " [0.36065516 0.29485348 1.11811121 0.60758618]\n",
      " [0.48250468 0.16695621 1.413931   0.88661654]\n",
      " [0.52766584 0.42769185 1.56803222 0.8518619 ]]\n",
      "[[ True  True  True  True]\n",
      " [ True  True  True  True]\n",
      " [ True  True  True  True]\n",
      " [ True  True  True  True]]\n"
     ]
    }
   ],
   "source": [
    "print(M)\n",
    "print(N)\n",
    "# print(O)\n",
    "# print(MTp)\n",
    "# print(subM)\n",
    "\n",
    "try:\n",
    "    pass\n",
    "    # print(N + MTp) # undefined operation if matrices aren't same size, as usual\n",
    "except ValueError:\n",
    "    print('hello') \n",
    "\n",
    "# print(np.matmul(M.T, N))\n",
    "print(M.T @ N) # same as above\n",
    "# print((M.T @ N) == np.matmul(M.T, N))"
   ]
  },
  {
   "cell_type": "code",
   "execution_count": 25,
   "metadata": {},
   "outputs": [
    {
     "name": "stdout",
     "output_type": "stream",
     "text": [
      "[[0.38777425 0.19371601]\n",
      " [0.00581648 0.1863211 ]]\n",
      "[[0.39359072 0.26437011]\n",
      " [0.38123881 0.38003711]]\n",
      "[[0.76959155 0.71888012]\n",
      " [0.15870269 0.51886667]]\n",
      "[[0.5038702  0.26946914]\n",
      " [0.03665014 0.35909244]]\n"
     ]
    }
   ],
   "source": [
    "X = np.random.rand(2, 2) \n",
    "Y = np.random.rand(2, 2)\n",
    "\n",
    "print(A * B)\n",
    "print(A.T @ B)\n",
    "# print(A)\n",
    "# print(B)"
   ]
  },
  {
   "cell_type": "code",
   "execution_count": 43,
   "metadata": {},
   "outputs": [
    {
     "name": "stdout",
     "output_type": "stream",
     "text": [
      "[[0.00000000e+00]\n",
      " [1.38777878e-17]\n",
      " [0.00000000e+00]\n",
      " [0.00000000e+00]]\n"
     ]
    },
    {
     "data": {
      "text/plain": [
       "(array([[-0.05734538,  0.35972666,  0.91894321,  0.15116753],\n",
       "        [-0.85763895, -0.48982579,  0.14707642, -0.05380191],\n",
       "        [-0.33054327,  0.61254203, -0.14472191, -0.7032702 ],\n",
       "        [-0.38975387,  0.50543019, -0.33610636,  0.69257834]]),\n",
       " array([[-1.04394995, -0.88488962, -1.34979034, -0.53064852],\n",
       "        [ 0.        ,  1.10452962,  0.85271689,  0.58449906],\n",
       "        [ 0.        ,  0.        ,  0.51432315,  0.20915764],\n",
       "        [ 0.        ,  0.        ,  0.        ,  0.70567007]]))"
      ]
     },
     "execution_count": 43,
     "metadata": {},
     "output_type": "execute_result"
    }
   ],
   "source": [
    "A = np.random.rand(4, 4)\n",
    "b = np.random.rand(4, 1)\n",
    "\n",
    "x = np.linalg.solve(A, b)\n",
    "# print(A)\n",
    "# print(b)\n",
    "# print(A @ x)\n",
    "print(A @ x - b)\n",
    "\n",
    "np.linalg.matrix_rank(A)\n",
    "np.linalg.qr(A, mode='complete')\n",
    "# np.linalg.qr(A, mode='reduced')"
   ]
  },
  {
   "cell_type": "code",
   "execution_count": 46,
   "metadata": {},
   "outputs": [],
   "source": [
    "C = np.random.rand(3, 2)\n",
    "Q, R = np.linalg.qr(C, mode = 'complete')\n",
    "# print(Q)\n",
    "# print(R)\n",
    "# print(Q @ R - C)\n",
    "\n",
    "Q, R = np.linalg.qr(C, mode = 'reduced')\n",
    "# print(Q)\n",
    "# print(R)\n",
    "# print(Q @ R - C)"
   ]
  },
  {
   "cell_type": "code",
   "execution_count": 57,
   "metadata": {},
   "outputs": [
    {
     "name": "stdout",
     "output_type": "stream",
     "text": [
      "[[-2.22044605e-16 -1.11022302e-16 -1.11022302e-16 -2.22044605e-16]\n",
      " [-5.55111512e-17  5.55111512e-17 -3.33066907e-16  1.11022302e-16]\n",
      " [-1.11022302e-16  5.55111512e-17 -3.33066907e-16  0.00000000e+00]\n",
      " [ 0.00000000e+00  0.00000000e+00 -5.55111512e-17  0.00000000e+00]]\n",
      "[2.00570294 0.95391932 0.36298355 0.03552021]\n"
     ]
    }
   ],
   "source": [
    "D = np.random.rand(4, 4)\n",
    "U, E, Vh = np.linalg.svd(D, full_matrices = True)\n",
    "print((U @ np.diag(E)) @ Vh - D)\n",
    "print(E)"
   ]
  },
  {
   "cell_type": "code",
   "execution_count": 82,
   "metadata": {},
   "outputs": [
    {
     "name": "stdout",
     "output_type": "stream",
     "text": [
      "[ 1.60170612 -1.00998649  0.06832264 -0.09158496]\n",
      "[[ 0.349849    0.45945986  0.77509072  0.69302617]\n",
      " [ 0.41669484  0.26286477 -0.43236257 -0.71441903]\n",
      " [ 0.63307569 -0.77632292  0.14999533  0.08049999]\n",
      " [ 0.55062351  0.34223014 -0.43565856 -0.05329101]]\n",
      "[-5.55111512e-16 -9.99200722e-16 -8.88178420e-16 -9.99200722e-16]\n"
     ]
    }
   ],
   "source": [
    "F = np.random.rand(4, 4)\n",
    "w, v = np.linalg.eig(F)\n",
    "print(w)\n",
    "print(v)\n",
    "\n",
    "print(F @ v[:, 0] - w[0] * v[:, 0])"
   ]
  },
  {
   "cell_type": "code",
   "execution_count": 84,
   "metadata": {},
   "outputs": [
    {
     "name": "stdout",
     "output_type": "stream",
     "text": [
      "[[1.00000000e+00 2.22044605e-16]\n",
      " [0.00000000e+00 1.00000000e+00]]\n",
      "[[1.00000000e+00 8.88178420e-16]\n",
      " [2.22044605e-16 1.00000000e+00]]\n"
     ]
    }
   ],
   "source": [
    "G = np.random.rand(2, 2)\n",
    "GI = np.linalg.inv(G)\n",
    "print(G @ GI)\n",
    "print(GI @ G)"
   ]
  },
  {
   "cell_type": "code",
   "execution_count": 91,
   "metadata": {},
   "outputs": [
    {
     "name": "stdout",
     "output_type": "stream",
     "text": [
      "1.0 2\n",
      "[[0.47899665 0.97847999]\n",
      " [0.39103271 0.91078604]]\n",
      "0.0536457775075676 1.3897826857565343\n",
      "0.053645777507567605 1.3897826857565343\n"
     ]
    }
   ],
   "source": [
    "H = np.array([1, 1, 0, 1])\n",
    "H = np.reshape(H, (2, 2))\n",
    "# print(H)\n",
    "# print(np.linalg.matrix_power(H, 2))\n",
    "# print(np.linalg.matrix_power(H, 3))\n",
    "# print(np.linalg.matrix_power(H, 4))\n",
    "print(np.linalg.det(H), np.trace(H))\n",
    "J = np.random.rand(2, 2)\n",
    "print(J)\n",
    "print(np.linalg.det(J), np.trace(J))\n",
    "print(J[0][0] * J[1][1] - J[0][1] * J[1][0], J[0][0] + J[1][1] )\n"
   ]
  },
  {
   "cell_type": "code",
   "execution_count": 98,
   "metadata": {},
   "outputs": [
    {
     "name": "stdout",
     "output_type": "stream",
     "text": [
      "[2. 3. 4.]\n",
      "[1. 1. 1.]\n",
      "5.656854249492381\n",
      "(5.656854249492381+0j)\n"
     ]
    }
   ],
   "source": [
    "v = np.array([1 + 2j, 1 + 3j, 1 + 4j])\n",
    "print(np.imag(v))\n",
    "print(np.real(v))\n",
    "print(np.linalg.norm(v))\n",
    "print(np.sqrt(np.inner(v,np.conj(v))))"
   ]
  },
  {
   "cell_type": "code",
   "execution_count": 99,
   "metadata": {},
   "outputs": [
    {
     "data": {
      "text/plain": [
       "array([ 1.        ,  2.71828183,  7.3890561 , 20.08553692])"
      ]
     },
     "execution_count": 99,
     "metadata": {},
     "output_type": "execute_result"
    }
   ],
   "source": [
    "a = np.arange(4)\n",
    "np.exp(a)"
   ]
  }
 ],
 "metadata": {
  "interpreter": {
   "hash": "0a03c635132c07876c6d7ba76e970a007adb91200514714c644f6e42df7dec65"
  },
  "kernelspec": {
   "display_name": "Python 3.7.11 64-bit ('myenv': conda)",
   "name": "python3"
  },
  "language_info": {
   "codemirror_mode": {
    "name": "ipython",
    "version": 3
   },
   "file_extension": ".py",
   "mimetype": "text/x-python",
   "name": "python",
   "nbconvert_exporter": "python",
   "pygments_lexer": "ipython3",
   "version": "3.7.11"
  },
  "orig_nbformat": 4
 },
 "nbformat": 4,
 "nbformat_minor": 2
}
