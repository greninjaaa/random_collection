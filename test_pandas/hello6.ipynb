{
 "cells": [
  {
   "cell_type": "code",
   "execution_count": 28,
   "metadata": {},
   "outputs": [
    {
     "name": "stdout",
     "output_type": "stream",
     "text": [
      "[ 11.5619334  -22.57414434 -21.94567355  16.40396108  24.57588223\n",
      "  -4.93360367  32.545862   -12.51376196 -18.89784626 -14.86310589\n",
      "   1.29537346  -9.36050936 -11.67960699 -20.65599542  -7.16302281\n",
      " -17.4619333    9.46986262  -8.90929591 -12.17899503   7.51989551\n",
      " -17.75112261   2.6019437    4.4512768   -8.86956162 -16.02621724\n",
      " -23.7734826  -18.04153851  23.69387626  -5.69841917  11.5514814\n",
      "  15.59418965  11.3386182  -14.81532935  16.72388215  -7.81937871\n",
      " -21.08132285  -6.78753326  -2.76184462  31.8713037  -14.98523064\n",
      "  -3.57879964   4.91324955  -5.71547551  19.70488753 -17.83669648\n",
      "  18.70683303 -13.35939922  12.34567813   0.22098373 -24.17856196\n",
      "  -7.81697778   9.9091109   -4.21959139   1.95133934 -24.32065646\n",
      " -15.93779327   4.57672301   4.06373271  -5.48635642   7.70266311\n",
      "   7.94501237  -5.87894589  17.99155759   7.82089063  -6.8854723\n",
      "  27.52777669 -11.25787215   6.15289894  16.16310275  -4.80559523\n",
      " -10.12150004  -6.80643414  -1.91099471   0.85668592 -17.3323155 ]\n"
     ]
    }
   ],
   "source": [
    "from sklearn import linear_model\n",
    "import numpy as np\n",
    "from numpy.random import default_rng\n",
    "rng = default_rng() \n",
    "\n",
    "e = 4\n",
    "beta0 = 1\n",
    "beta1 = 5\n",
    "n = 75\n",
    "\n",
    "sample = rng.uniform(-5, 5, n).reshape((n, 1))\n",
    "# print(sample)\n",
    "\n",
    "X = np.concatenate( (np.ones((n, 1)), sample), axis = 1)\n",
    "# print(X)\n",
    "\n",
    "y = X @ np.array([beta0, beta1]) + rng.normal(0, e, n)\n",
    "print(y)"
   ]
  },
  {
   "cell_type": "code",
   "execution_count": 29,
   "metadata": {},
   "outputs": [
    {
     "data": {
      "image/png": "[encoded data removed]",
      "text/plain": [
       "<Figure size 432x288 with 1 Axes>"
      ]
     },
     "metadata": {
      "needs_background": "light"
     },
     "output_type": "display_data"
    }
   ],
   "source": [
    "import matplotlib.pyplot as plt\n",
    "\n",
    "plt.plot(sample, y, '.')\n",
    "plt.show()\n",
    "\n",
    "reg = linear_model.LinearRegression()"
   ]
  },
  {
   "cell_type": "code",
   "execution_count": 58,
   "metadata": {},
   "outputs": [
    {
     "name": "stdout",
     "output_type": "stream",
     "text": [
      "[4.73966713]\n",
      "1.0226976871466062\n"
     ]
    }
   ],
   "source": [
    "from sklearn.model_selection import train_test_split\n",
    "\n",
    "X_train, X_test, y_train, y_test = train_test_split(sample, y, test_size = 0.2)\n",
    "reg.fit(X_train, y_train)\n",
    "\n",
    "y_pred = reg.predict(X_test)\n",
    "print(reg.coef_) \n",
    "print(reg.intercept_)"
   ]
  },
  {
   "cell_type": "code",
   "execution_count": 63,
   "metadata": {},
   "outputs": [
    {
     "name": "stdout",
     "output_type": "stream",
     "text": [
      "0.9103588330363307\n",
      "0.9098397463952217\n"
     ]
    }
   ],
   "source": [
    "from sklearn.metrics import r2_score\n",
    "print(r2_score(y_test, y_pred))\n",
    "\n",
    "y_train_pred = reg.predict(X_train)\n",
    "print(r2_score(y_train, y_train_pred))\n"
   ]
  },
  {
   "cell_type": "markdown",
   "metadata": {},
   "source": [
    "try doing similar stuff using linalg\n",
    "and try multiple variables"
   ]
  }
 ],
 "metadata": {
  "interpreter": {
   "hash": "0a03c635132c07876c6d7ba76e970a007adb91200514714c644f6e42df7dec65"
  },
  "kernelspec": {
   "display_name": "Python 3.7.11 64-bit ('myenv': conda)",
   "name": "python3"
  },
  "language_info": {
   "codemirror_mode": {
    "name": "ipython",
    "version": 3
   },
   "file_extension": ".py",
   "mimetype": "text/x-python",
   "name": "python",
   "nbconvert_exporter": "python",
   "pygments_lexer": "ipython3",
   "version": "3.7.11"
  },
  "orig_nbformat": 4
 },
 "nbformat": 4,
 "nbformat_minor": 2
}
